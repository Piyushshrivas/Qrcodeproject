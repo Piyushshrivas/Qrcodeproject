{
  "nbformat": 4,
  "nbformat_minor": 0,
  "metadata": {
    "colab": {
      "provenance": []
    },
    "kernelspec": {
      "name": "python3",
      "display_name": "Python 3"
    },
    "language_info": {
      "name": "python"
    }
  },
  "cells": [
    {
      "cell_type": "code",
      "execution_count": null,
      "metadata": {
        "id": "n8u77IYMPwIz",
        "colab": {
          "base_uri": "https://localhost:8080/"
        },
        "outputId": "96429dd9-8547-4242-b8de-b98faa5f0ce1"
      },
      "outputs": [
        {
          "output_type": "stream",
          "name": "stdout",
          "text": [
            "Looking in indexes: https://pypi.org/simple, https://us-python.pkg.dev/colab-wheels/public/simple/\n",
            "Requirement already satisfied: qrcode in /usr/local/lib/python3.8/dist-packages (7.3.1)\n"
          ]
        }
      ],
      "source": [
        "!pip install qrcode\n",
        " "
      ]
    },
    {
      "cell_type": "code",
      "source": [
        "!pip install PIL"
      ],
      "metadata": {
        "colab": {
          "base_uri": "https://localhost:8080/"
        },
        "id": "UIEdzxdsUnIh",
        "outputId": "102a8dc7-bce9-43c0-aa37-1a3a22e5b0de"
      },
      "execution_count": null,
      "outputs": [
        {
          "output_type": "stream",
          "name": "stdout",
          "text": [
            "Looking in indexes: https://pypi.org/simple, https://us-python.pkg.dev/colab-wheels/public/simple/\n",
            "\u001b[31mERROR: Could not find a version that satisfies the requirement PIL (from versions: none)\u001b[0m\n",
            "\u001b[31mERROR: No matching distribution found for PIL\u001b[0m\n"
          ]
        }
      ]
    },
    {
      "cell_type": "code",
      "source": [
        "from qrcode.constants import ERROR_CORRECT_H\n",
        "import qrcode\n",
        "from PIL import Image\n",
        "\n",
        "qr=qrcode.QRCode(version=1,\n",
        "                 error_correction=qrcode.constants.ERROR_CORRECT_H,\n",
        "                 box_size=10,border=4,)\n",
        "qr.add_data(\"https://www.youtube.com/\")\n",
        "qr.make(fit=True)\n",
        "img=qr.make_image(fill_color=\"silver\",back_color=\"azure\")\n",
        "img.save(\"yt.png\")"
      ],
      "metadata": {
        "id": "2sU-i5xGUy_K"
      },
      "execution_count": null,
      "outputs": []
    },
    {
      "cell_type": "code",
      "source": [
        "from google.colab import drive\n",
        "drive.mount('/content/drive')"
      ],
      "metadata": {
        "id": "z2WGj8lZYR33"
      },
      "execution_count": null,
      "outputs": []
    }
  ]
}